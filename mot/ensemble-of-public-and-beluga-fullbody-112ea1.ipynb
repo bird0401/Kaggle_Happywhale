{
 "cells": [
  {
   "cell_type": "markdown",
   "id": "a8c35650",
   "metadata": {
    "papermill": {
     "duration": 0.009013,
     "end_time": "2022-04-17T11:44:21.968916",
     "exception": false,
     "start_time": "2022-04-17T11:44:21.959903",
     "status": "completed"
    },
    "tags": []
   },
   "source": [
    "# Hi Kagglers !"
   ]
  },
  {
   "cell_type": "markdown",
   "id": "549b9296",
   "metadata": {
    "papermill": {
     "duration": 0.00757,
     "end_time": "2022-04-17T11:44:21.984550",
     "exception": false,
     "start_time": "2022-04-17T11:44:21.976980",
     "status": "completed"
    },
    "tags": []
   },
   "source": [
    "Original notebook : https://www.kaggle.com/code/nealart/simple-ensemble-of-public-best-kernels-v-2-2-0?scriptVersionId=92637719"
   ]
  },
  {
   "cell_type": "markdown",
   "id": "e67ea1b1",
   "metadata": {
    "papermill": {
     "duration": 0.007934,
     "end_time": "2022-04-17T11:44:21.999991",
     "exception": false,
     "start_time": "2022-04-17T11:44:21.992057",
     "status": "completed"
    },
    "tags": []
   },
   "source": [
    "---"
   ]
  },
  {
   "cell_type": "markdown",
   "id": "acc1a20a",
   "metadata": {
    "papermill": {
     "duration": 0.007249,
     "end_time": "2022-04-17T11:44:22.014853",
     "exception": false,
     "start_time": "2022-04-17T11:44:22.007604",
     "status": "completed"
    },
    "tags": []
   },
   "source": [
    "Here is a simple ensemble method for submissions.\n",
    "This idea can be easily referenced from previous competitions\n",
    "\n",
    "If you think this kernel is good, please upvote the following people who provided the original kernel instead.\n",
    "\n",
    "*  https://www.kaggle.com/aikhmelnytskyy/happywhale-arcface-baseline-eff7-tpu-768-inference\n",
    "\n",
    "* https://www.kaggle.com/nghiahoangtrung/0-720-eff-b5-640-rotate\n",
    "\n",
    "* https://www.kaggle.com/aikhmelnytskyy/happywhale-effnet-b7-fork-with-detic-training\n",
    "\n",
    "* https://www.kaggle.com/andrej0marinchenko/happywhale-0-679\n",
    "\n",
    "I added my own result training (best82) on fullbody annotation dataset with beluga only\n",
    "and was able to achieve significant lb boost. \n",
    "\n",
    "I use the pytorch notebook by clemchris to train my model with some adjustment such as fine\n",
    "tuning the margin \n",
    "\n",
    "\n",
    "https://www.kaggle.com/code/clemchris/pytorch-backfin-convnext-arcface"
   ]
  },
  {
   "cell_type": "code",
   "execution_count": 1,
   "id": "d6acc29d",
   "metadata": {
    "execution": {
     "iopub.execute_input": "2022-04-17T11:44:22.047527Z",
     "iopub.status.busy": "2022-04-17T11:44:22.046762Z",
     "iopub.status.idle": "2022-04-17T11:44:22.053641Z",
     "shell.execute_reply": "2022-04-17T11:44:22.052888Z",
     "shell.execute_reply.started": "2022-04-17T11:42:27.343893Z"
    },
    "papermill": {
     "duration": 0.029442,
     "end_time": "2022-04-17T11:44:22.053842",
     "exception": false,
     "start_time": "2022-04-17T11:44:22.024400",
     "status": "completed"
    },
    "tags": []
   },
   "outputs": [],
   "source": [
    "import csv\n",
    "import pandas as pd \n",
    "\n",
    "sub_files = [\n",
    "                 '../input/best82/submission.csv',\n",
    "                 '../input/convnext-largebase-tff-b5b6b7/embd_convnext_large_384_in22ft1k_384convnext_base_384_in22ft1k_512tf_efficientnet_b7_ns_512tf_efficientnet_b5_ns_512tf_efficientnet_b6_ns_512_norm_submission.csv',\n",
    "                 # '../input/convnext-large384-effb7-effb6-effb5-512/embd_convnext_large_384_in22ft1k_384tf_efficientnet_b7_ns_512tf_efficientnet_b5_ns_512tf_efficientnet_b6_ns_512_norm_submission.csv',\n",
    "                 '../input/simple-ensemble-of-public-best-kernels/submission.csv',\n",
    "                 '../input/dolphin/effnetb7_effnetv2l_ensemble.csv',\n",
    "#                  '../input/swin-tranform-submission/submission.csv',#swint\n",
    "#                  '../input/happywhale-arcface-baseline-eff7-tpu-768-inference/submission.csv',#eff7\n",
    "#                  '../input/0-720-eff-b5-640-rotate/submission.csv',  #effb5\n",
    "#                  '../input/happywhale-effnet-b7-fork-with-detic-training/submission.csv', # eff7, 0.699\n",
    "#                  '../input/simple-vanilla-pytorch-inference-gem-pooling/submission.csv', # 0.694\n",
    "                 # '../input/arcfaceeffb6inferbaseline/submission.csv',\n",
    "                 # '../input/happywhale-effnet-b7-fork-with-detic-crop/submission.csv',\n",
    "                 \n",
    "]\n",
    "\n",
    "# Weights of the individual subs\n",
    "# sub_weight = [\n",
    "#                 0.5,\n",
    "# #                 0.2,\n",
    "# #                 0.2,\n",
    "# #                 0.1,\n",
    "#                 0.5,\n",
    "# ]\n",
    "#             ]\n",
    "# Weights of the individual subs\n",
    "N_wight=0.5\n",
    "Base_wight=1.5\n",
    "\n",
    "l1 = [0.782, 0.778, 0.777, 0.766]\n",
    "l2 = [Base_wight+N_wight*i for i in range(len(l1))]\n",
    "sub_weight = list(map(lambda x,y: x**y ,l1,l2))\n"
   ]
  },
  {
   "cell_type": "code",
   "execution_count": 2,
   "id": "b9ca807f",
   "metadata": {
    "execution": {
     "iopub.execute_input": "2022-04-17T11:44:22.073326Z",
     "iopub.status.busy": "2022-04-17T11:44:22.072263Z",
     "iopub.status.idle": "2022-04-17T11:44:23.899195Z",
     "shell.execute_reply": "2022-04-17T11:44:23.898524Z",
     "shell.execute_reply.started": "2022-04-17T11:42:27.380818Z"
    },
    "papermill": {
     "duration": 1.837924,
     "end_time": "2022-04-17T11:44:23.899374",
     "exception": false,
     "start_time": "2022-04-17T11:44:22.061450",
     "status": "completed"
    },
    "tags": []
   },
   "outputs": [
    {
     "name": "stdout",
     "output_type": "stream",
     "text": [
      "{0: 1.0, 1: 0.5, 2: 0.3333333333333333, 3: 0.25, 4: 0.2, 5: 0.16666666666666666}\n",
      "Reading 0: w=0.6915285735239001 - ../input/best82/submission.csv\n",
      "Reading 1: w=0.605284 - ../input/convnext-largebase-tff-b5b6b7/embd_convnext_large_384_in22ft1k_384convnext_base_384_in22ft1k_512tf_efficientnet_b7_ns_512tf_efficientnet_b5_ns_512tf_efficientnet_b6_ns_512_norm_submission.csv\n",
      "Reading 2: w=0.5321726450388605 - ../input/simple-ensemble-of-public-best-kernels/submission.csv\n",
      "Reading 3: w=0.449455096 - ../input/dolphin/effnetb7_effnetv2l_ensemble.csv\n"
     ]
    }
   ],
   "source": [
    "Hlabel = 'image' \n",
    "Htarget = 'predictions'\n",
    "npt = 6\n",
    "place_weights = {}\n",
    "for i in range(npt):\n",
    "    place_weights[i] = (1 / (i + 1))\n",
    "\n",
    "print(place_weights)\n",
    "\n",
    "lg = len(sub_files)\n",
    "sub = [None]*lg\n",
    "for i, file in enumerate( sub_files ):   \n",
    "    print(\"Reading {}: w={} - {}\". format(i, sub_weight[i], file))\n",
    "    reader = csv.DictReader(open(file,\"r\"))\n",
    "    sub[i] = sorted(reader, key=lambda d: str(d[Hlabel]))\n",
    "\n",
    "out = open(\"submission.csv\", \"w\", newline='')\n",
    "writer = csv.writer(out)\n",
    "writer.writerow([Hlabel,Htarget])\n",
    "\n",
    "for p, row in enumerate(sub[0]):\n",
    "    target_weight = {}\n",
    "    for s in range(lg):\n",
    "        row1 = sub[s][p]\n",
    "        for ind, trgt in enumerate(row1[Htarget].split(' ')):\n",
    "            target_weight[trgt] = target_weight.get(trgt,0) + (place_weights[ind]*sub_weight[s])\n",
    "    tops_trgt = sorted(target_weight, key=target_weight.get, reverse=True)[:npt]\n",
    "    writer.writerow([row1[Hlabel], \" \".join(tops_trgt)])\n",
    "out.close()"
   ]
  },
  {
   "cell_type": "markdown",
   "id": "d65fe761",
   "metadata": {
    "papermill": {
     "duration": 0.009135,
     "end_time": "2022-04-17T11:44:23.918621",
     "exception": false,
     "start_time": "2022-04-17T11:44:23.909486",
     "status": "completed"
    },
    "tags": []
   },
   "source": [
    "<center>\n",
    "    <h1 style='color: #f13658'> Thanks for reading 👍 <h1>"
   ]
  },
  {
   "cell_type": "code",
   "execution_count": null,
   "id": "6223a1f8",
   "metadata": {
    "papermill": {
     "duration": 0.009037,
     "end_time": "2022-04-17T11:44:23.937631",
     "exception": false,
     "start_time": "2022-04-17T11:44:23.928594",
     "status": "completed"
    },
    "tags": []
   },
   "outputs": [],
   "source": []
  }
 ],
 "metadata": {
  "kernelspec": {
   "display_name": "Python 3",
   "language": "python",
   "name": "python3"
  },
  "language_info": {
   "codemirror_mode": {
    "name": "ipython",
    "version": 3
   },
   "file_extension": ".py",
   "mimetype": "text/x-python",
   "name": "python",
   "nbconvert_exporter": "python",
   "pygments_lexer": "ipython3",
   "version": "3.7.12"
  },
  "papermill": {
   "default_parameters": {},
   "duration": 16.785152,
   "end_time": "2022-04-17T11:44:26.987546",
   "environment_variables": {},
   "exception": null,
   "input_path": "__notebook__.ipynb",
   "output_path": "__notebook__.ipynb",
   "parameters": {},
   "start_time": "2022-04-17T11:44:10.202394",
   "version": "2.3.3"
  }
 },
 "nbformat": 4,
 "nbformat_minor": 5
}
