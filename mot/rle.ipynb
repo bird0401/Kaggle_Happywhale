{
  "nbformat": 4,
  "nbformat_minor": 0,
  "metadata": {
    "colab": {
      "name": "rle.ipynb",
      "provenance": []
    },
    "kernelspec": {
      "name": "python3",
      "display_name": "Python 3"
    },
    "language_info": {
      "name": "python"
    }
  },
  "cells": [
    {
      "cell_type": "code",
      "source": [
        "pip install git+https://github.com/waleedka/coco.git#subdirectory=PythonAPI"
      ],
      "metadata": {
        "colab": {
          "base_uri": "https://localhost:8080/"
        },
        "id": "ykaZlAdl3Ltm",
        "outputId": "020b2555-5474-4dec-8a82-fcd3fe14550e"
      },
      "execution_count": 2,
      "outputs": [
        {
          "output_type": "stream",
          "name": "stdout",
          "text": [
            "Collecting git+https://github.com/waleedka/coco.git#subdirectory=PythonAPI\n",
            "  Cloning https://github.com/waleedka/coco.git to /tmp/pip-req-build-8nm9ol9c\n",
            "  Running command git clone -q https://github.com/waleedka/coco.git /tmp/pip-req-build-8nm9ol9c\n",
            "Building wheels for collected packages: pycocotools\n",
            "  Building wheel for pycocotools (setup.py) ... \u001b[?25l\u001b[?25hdone\n",
            "  Created wheel for pycocotools: filename=pycocotools-2.0-cp37-cp37m-linux_x86_64.whl size=264148 sha256=83950982526acbc0de37ca7c0b30698b383d88573419ac5b1c2d88e7346605fc\n",
            "  Stored in directory: /tmp/pip-ephem-wheel-cache-s2snsbmh/wheels/26/53/cb/6a7cdd6bcb0f192dead045f897d3d4e05641492181968447ba\n",
            "Successfully built pycocotools\n",
            "Installing collected packages: pycocotools\n",
            "  Attempting uninstall: pycocotools\n",
            "    Found existing installation: pycocotools 2.0.4\n",
            "    Uninstalling pycocotools-2.0.4:\n",
            "      Successfully uninstalled pycocotools-2.0.4\n",
            "Successfully installed pycocotools-2.0\n"
          ]
        }
      ]
    },
    {
      "cell_type": "code",
      "source": [
        "from pycocotools.coco import COCO"
      ],
      "metadata": {
        "id": "JNI8GwH73QbC"
      },
      "execution_count": 4,
      "outputs": []
    },
    {
      "cell_type": "code",
      "source": [
        "import json\n",
        "import numpy as np\n",
        "from pycocotools import mask\n",
        "from skimage import measure"
      ],
      "metadata": {
        "id": "lnINrHJa3ZqU"
      },
      "execution_count": 7,
      "outputs": []
    },
    {
      "cell_type": "code",
      "source": [
        "ground_truth_binary_mask = np.array([[  0,   0,   0,   0,   0,   0,   0,   0,   0,   0],\n",
        "                                     [  0,   0,   0,   0,   0,   0,   0,   0,   0,   0],\n",
        "                                     [  0,   0,   0,   0,   0,   1,   1,   1,   0,   0],\n",
        "                                     [  0,   0,   0,   0,   0,   1,   1,   1,   0,   0],\n",
        "                                     [  0,   0,   0,   0,   0,   1,   1,   1,   0,   0],\n",
        "                                     [  0,   0,   0,   0,   0,   1,   1,   1,   0,   0],\n",
        "                                     [  1,   0,   0,   0,   0,   0,   0,   0,   0,   0],\n",
        "                                     [  0,   0,   0,   0,   0,   0,   0,   0,   0,   0],\n",
        "                                     [  0,   0,   0,   0,   0,   0,   0,   0,   0,   0]], dtype=np.uint8)"
      ],
      "metadata": {
        "id": "lRAWxXab3VoA"
      },
      "execution_count": 11,
      "outputs": []
    },
    {
      "cell_type": "code",
      "source": [
        "fortran_ground_truth_binary_mask = np.asfortranarray(ground_truth_binary_mask)\n",
        "fortran_ground_truth_binary_mask"
      ],
      "metadata": {
        "colab": {
          "base_uri": "https://localhost:8080/"
        },
        "id": "RbHCTwn93gRf",
        "outputId": "c3f01ae6-a6f8-4f8f-d1f4-d73e0f483116"
      },
      "execution_count": 12,
      "outputs": [
        {
          "output_type": "execute_result",
          "data": {
            "text/plain": [
              "array([[0, 0, 0, 0, 0, 0, 0, 0, 0, 0],\n",
              "       [0, 0, 0, 0, 0, 0, 0, 0, 0, 0],\n",
              "       [0, 0, 0, 0, 0, 1, 1, 1, 0, 0],\n",
              "       [0, 0, 0, 0, 0, 1, 1, 1, 0, 0],\n",
              "       [0, 0, 0, 0, 0, 1, 1, 1, 0, 0],\n",
              "       [0, 0, 0, 0, 0, 1, 1, 1, 0, 0],\n",
              "       [1, 0, 0, 0, 0, 0, 0, 0, 0, 0],\n",
              "       [0, 0, 0, 0, 0, 0, 0, 0, 0, 0],\n",
              "       [0, 0, 0, 0, 0, 0, 0, 0, 0, 0]], dtype=uint8)"
            ]
          },
          "metadata": {},
          "execution_count": 12
        }
      ]
    },
    {
      "cell_type": "code",
      "source": [
        "encoded_ground_truth = mask.encode(fortran_ground_truth_binary_mask)\n",
        "encoded_ground_truth"
      ],
      "metadata": {
        "colab": {
          "base_uri": "https://localhost:8080/"
        },
        "id": "1epFUCYK3l7j",
        "outputId": "0dfc74f0-2ece-460d-988e-c6ff7b969d7e"
      },
      "execution_count": 14,
      "outputs": [
        {
          "output_type": "execute_result",
          "data": {
            "text/plain": [
              "{'counts': b'61X13mN000`0', 'size': [9, 10]}"
            ]
          },
          "metadata": {},
          "execution_count": 14
        }
      ]
    },
    {
      "cell_type": "code",
      "source": [
        "mask.decode(encoded_ground_truth)"
      ],
      "metadata": {
        "colab": {
          "base_uri": "https://localhost:8080/"
        },
        "id": "pEc2Uckz3cyL",
        "outputId": "64fc06c4-fe3f-4b6d-bf5e-1075089afbe3"
      },
      "execution_count": 16,
      "outputs": [
        {
          "output_type": "execute_result",
          "data": {
            "text/plain": [
              "array([[0, 0, 0, 0, 0, 0, 0, 0, 0, 0],\n",
              "       [0, 0, 0, 0, 0, 0, 0, 0, 0, 0],\n",
              "       [0, 0, 0, 0, 0, 1, 1, 1, 0, 0],\n",
              "       [0, 0, 0, 0, 0, 1, 1, 1, 0, 0],\n",
              "       [0, 0, 0, 0, 0, 1, 1, 1, 0, 0],\n",
              "       [0, 0, 0, 0, 0, 1, 1, 1, 0, 0],\n",
              "       [1, 0, 0, 0, 0, 0, 0, 0, 0, 0],\n",
              "       [0, 0, 0, 0, 0, 0, 0, 0, 0, 0],\n",
              "       [0, 0, 0, 0, 0, 0, 0, 0, 0, 0]], dtype=uint8)"
            ]
          },
          "metadata": {},
          "execution_count": 16
        }
      ]
    },
    {
      "cell_type": "code",
      "execution_count": 21,
      "metadata": {
        "id": "EUmcituE3CV_"
      },
      "outputs": [],
      "source": [
        "import cv2\n",
        "rle={'size': [9, 10], 'counts': b'61X13mN000`0'}"
      ]
    },
    {
      "cell_type": "code",
      "source": [
        "dec_rle= mask.decode(rle) * 255\n",
        "dec_rle"
      ],
      "metadata": {
        "colab": {
          "base_uri": "https://localhost:8080/"
        },
        "id": "BdkuZYx637P4",
        "outputId": "f64b6e41-9b7e-432b-82ab-0726156ad42b"
      },
      "execution_count": 19,
      "outputs": [
        {
          "output_type": "execute_result",
          "data": {
            "text/plain": [
              "array([[  0,   0,   0,   0,   0,   0,   0,   0,   0,   0],\n",
              "       [  0,   0,   0,   0,   0,   0,   0,   0,   0,   0],\n",
              "       [  0,   0,   0,   0,   0, 255, 255, 255,   0,   0],\n",
              "       [  0,   0,   0,   0,   0, 255, 255, 255,   0,   0],\n",
              "       [  0,   0,   0,   0,   0, 255, 255, 255,   0,   0],\n",
              "       [  0,   0,   0,   0,   0, 255, 255, 255,   0,   0],\n",
              "       [255,   0,   0,   0,   0,   0,   0,   0,   0,   0],\n",
              "       [  0,   0,   0,   0,   0,   0,   0,   0,   0,   0],\n",
              "       [  0,   0,   0,   0,   0,   0,   0,   0,   0,   0]], dtype=uint8)"
            ]
          },
          "metadata": {},
          "execution_count": 19
        }
      ]
    },
    {
      "cell_type": "code",
      "source": [
        "cv2.imwrite(\"segmentation.png\", dec_rle)"
      ],
      "metadata": {
        "colab": {
          "base_uri": "https://localhost:8080/"
        },
        "id": "I_skrdFT38sd",
        "outputId": "b1ccb952-2f60-41ce-8eaa-4f79d260f06d"
      },
      "execution_count": 20,
      "outputs": [
        {
          "output_type": "execute_result",
          "data": {
            "text/plain": [
              "True"
            ]
          },
          "metadata": {},
          "execution_count": 20
        }
      ]
    }
  ]
}